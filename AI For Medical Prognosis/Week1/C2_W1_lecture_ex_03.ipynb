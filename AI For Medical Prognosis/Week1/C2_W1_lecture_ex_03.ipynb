{
 "cells": [
  {
   "cell_type": "markdown",
   "metadata": {},
   "source": [
    "# Course 2 week 1 lecture notebook Exercise 03\n"
   ]
  },
  {
   "cell_type": "markdown",
   "metadata": {},
   "source": [
    "<a name=\"combine-features\"></a>\n",
    "## Combine features\n",
    "\n",
    "In this exercise, you will practice how to combine features in a pandas dataframe.  This will help you in the graded assignment at the end of the week.  \n",
    "\n",
    "In addition, you will explore why it makes more sense to multiply two features rather than add them in order to create interaction terms.\n",
    "\n",
    "First, you will generate some data to work with."
   ]
  },
  {
   "cell_type": "code",
   "execution_count": null,
   "metadata": {},
   "outputs": [],
   "source": [
    "# Import pandas\n",
    "import pandas as pd\n",
    "\n",
    "# Import a pre-defined function that generates data\n",
    "from utils import load_data"
   ]
  },
  {
   "cell_type": "code",
   "execution_count": null,
   "metadata": {},
   "outputs": [],
   "source": [
    "# Generate features and labels\n",
    "X, y = load_data(100)"
   ]
  },
  {
   "cell_type": "code",
   "execution_count": null,
   "metadata": {},
   "outputs": [],
   "source": [
    "X.head()"
   ]
  },
  {
   "cell_type": "code",
   "execution_count": null,
   "metadata": {},
   "outputs": [],
   "source": [
    "feature_names = X.columns\n",
    "feature_names"
   ]
  },
  {
   "cell_type": "markdown",
   "metadata": {},
   "source": [
    "### Combine strings\n",
    "Even though you can visually see feature names and type the name of the combined feature, you can programmatically create interaction features so that you can apply this to any dataframe.\n",
    "\n",
    "Use f-strings to combine two strings.  There are other ways to do this, but Python's f-strings are quite useful."
   ]
  },
  {
   "cell_type": "code",
   "execution_count": null,
   "metadata": {},
   "outputs": [],
   "source": [
    "name1 = feature_names[0]\n",
    "name2 = feature_names[1]\n",
    "\n",
    "print(f\"name1: {name1}\")\n",
    "print(f\"name2: {name2}\")"
   ]
  },
  {
   "cell_type": "code",
   "execution_count": null,
   "metadata": {},
   "outputs": [],
   "source": [
    "# Combine the names of two features into a single string, separated by '_&_' for clarity\n",
    "combined_names = f\"{name1}_&_{name2}\"\n",
    "combined_names"
   ]
  },
  {
   "cell_type": "markdown",
   "metadata": {},
   "source": [
    "### Add two columns\n",
    "- Add the values from two columns and put them into a new column.\n",
    "- You'll do something similar in this week's assignment."
   ]
  },
  {
   "cell_type": "code",
   "execution_count": null,
   "metadata": {},
   "outputs": [],
   "source": [
    "X[combined_names] = X['Age'] + X['Systolic_BP']\n",
    "X.head(2)"
   ]
  },
  {
   "cell_type": "markdown",
   "metadata": {},
   "source": [
    "### Why we multiply two features instead of adding\n",
    "\n",
    "Why do you think it makes more sense to multiply two features together rather than adding them together?\n",
    "\n",
    "Please take a look at two features, and compare what you get when you add them, versus when you multiply them together."
   ]
  },
  {
   "cell_type": "code",
   "execution_count": null,
   "metadata": {},
   "outputs": [],
   "source": [
    "# Generate a small dataset with two features\n",
    "df = pd.DataFrame({'v1': [1,1,1,2,2,2,3,3,3],\n",
    "                   'v2': [100,200,300,100,200,300,100,200,300]\n",
    "                  })\n",
    "\n",
    "# add the two features together\n",
    "df['v1 + v2'] = df['v1'] + df['v2']\n",
    "\n",
    "# multiply the two features together\n",
    "df['v1 x v2'] = df['v1'] * df['v2']\n",
    "df"
   ]
  },
  {
   "cell_type": "markdown",
   "metadata": {},
   "source": [
    "It may not be immediately apparent how adding or multiplying makes a difference; either way you get unique values for each of these operations.\n",
    "\n",
    "To view the data in a more helpful way, rearrange the data (pivot it) so that:\n",
    "- feature 1 is the row index \n",
    "- feature 2 is the column name.  \n",
    "- Then set the sum of the two features as the value. \n",
    "\n",
    "Display the resulting data in a heatmap."
   ]
  },
  {
   "cell_type": "code",
   "execution_count": null,
   "metadata": {},
   "outputs": [],
   "source": [
    "# Import seaborn in order to use a heatmap plot\n",
    "import seaborn as sns"
   ]
  },
  {
   "cell_type": "code",
   "execution_count": null,
   "metadata": {},
   "outputs": [],
   "source": [
    "# Pivot the data so that v1 + v2 is the value\n",
    "\n",
    "df_add = df.pivot(index='v1',\n",
    "                  columns='v2',\n",
    "                  values='v1 + v2'\n",
    "                 )\n",
    "print(\"v1 + v2\\n\")\n",
    "display(df_add)\n",
    "print()\n",
    "sns.heatmap(df_add);"
   ]
  },
  {
   "cell_type": "markdown",
   "metadata": {},
   "source": [
    "Notice that it doesn't seem like you can easily distinguish clearly when you vary feature 1 (which ranges from 1 to 3), since feature 2 is so much larger in magnitude (100 to 300).  This is because you added the two features together."
   ]
  },
  {
   "cell_type": "markdown",
   "metadata": {},
   "source": [
    "#### View the 'multiply' interaction\n",
    "\n",
    "Now pivot the data so that:\n",
    "- feature 1 is the row index \n",
    "- feature 2 is the column name.  \n",
    "- The values are 'v1 x v2' \n",
    "\n",
    "Use a heatmap to visualize the table."
   ]
  },
  {
   "cell_type": "code",
   "execution_count": null,
   "metadata": {},
   "outputs": [],
   "source": [
    "df_mult = df.pivot(index='v1',\n",
    "                  columns='v2',\n",
    "                  values='v1 x v2'\n",
    "                 )\n",
    "print('v1 x v2')\n",
    "display(df_mult)\n",
    "print()\n",
    "sns.heatmap(df_mult);"
   ]
  },
  {
   "cell_type": "markdown",
   "metadata": {},
   "source": [
    "Notice how when you multiply the features, the heatmap looks more like a 'grid' shape instead of three vertical bars.  \n",
    "\n",
    "This means that you are more clearly able to make a distinction as feature 1 varies from 1 to 2 to 3."
   ]
  },
  {
   "cell_type": "markdown",
   "metadata": {},
   "source": [
    "### Discussion\n",
    "\n",
    "When you find the interaction between two features, you ideally hope to see how varying one feature makes an impact on the interaction term.  This is better achieved by multiplying the two features together rather than adding them together.  \n",
    "\n",
    "Another way to think of this is that you want to separate the feature space into a \"grid\", which you can do by multiplying the features together.\n",
    "\n",
    "In this week's assignment, you will create interaction terms!"
   ]
  },
  {
   "cell_type": "markdown",
   "metadata": {},
   "source": [
    "### This is the end of this practice section.\n",
    "\n",
    "Please continue on with the lecture videos!\n",
    "\n",
    "---"
   ]
  }
 ],
 "metadata": {
  "kernelspec": {
   "display_name": "Python 3",
   "language": "python",
   "name": "python3"
  },
  "language_info": {
   "codemirror_mode": {
    "name": "ipython",
    "version": 3
   },
   "file_extension": ".py",
   "mimetype": "text/x-python",
   "name": "python",
   "nbconvert_exporter": "python",
   "pygments_lexer": "ipython3",
   "version": "3.7.4"
  }
 },
 "nbformat": 4,
 "nbformat_minor": 4
}
